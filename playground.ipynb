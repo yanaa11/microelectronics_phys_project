{
 "cells": [
  {
   "cell_type": "markdown",
   "metadata": {},
   "source": [
    "### Заметки:\n",
    "\n",
    "#### Нам\n",
    "\n",
    "- Попросить у лектора примеры значений всех выдаваемых величин и результатов (хотя бы по порядку величины)\n",
    "\n",
    "- N_d, N_d0 ??? (относительно семинара)\n",
    "\n",
    "- В чем измеряется диэлектрическая проницаемость?\n",
    "\n",
    "- Почему электрическое поле измеряется (на слайде) в $e/cm^2$ ???\n",
    "\n",
    "Должно вообще в $$ В/м = (10^6 c^{-1}) \\frac{дин}{статК} = (10^6 c^{-1}) \\cdot \\frac{дин}{дин^{1/2} \\cdot см} = 10^6 \\cdot \\frac{1}{3} \\cdot 10^{-10} \\cdot \\frac{г^{1/2}}{с \\cdot см^{1/2}} = \\\\ =3.3 \\cdot 10^{-5} \\cdot \\frac{г^{1/2}}{с \\cdot см^{1/2}}$$\n",
    "\n",
    "$$[e] = [статК] = [дин^{1/2}\\cdot см] = [\\frac{г^{1/2}см^{3/2}}{с }]$$\n",
    "\n",
    "тогда \n",
    "\n",
    "$$[\\frac{E_{out}}{4 \\pi e}] = [\\frac{г^{1/2}}{с \\cdot см^{1/2}} \\cdot \\frac{с}{г^{1/2}см^{3/2}}] = [\\frac{1}{см^2}]$$\n",
    "\n",
    "- Почему на слайде $N_{as}$ дано в $\\frac{1}{см^3}$ (должно быть в $\\frac{1}{см^2}$)\n",
    "\n",
    "#### В fompy\n",
    "\n",
    "- Почему нет спиновой двойки в выражении для Nd+ (В семинаре есть) "
   ]
  },
  {
   "cell_type": "code",
   "execution_count": 185,
   "metadata": {},
   "outputs": [],
   "source": [
    "import math\n",
    "from fompy import constants\n",
    "from fompy import functions\n",
    "from fompy import materials\n",
    "from fompy import models\n",
    "from fompy import units\n",
    "from fompy import util\n",
    "\n",
    "import matplotlib.pyplot as plt"
   ]
  },
  {
   "cell_type": "markdown",
   "metadata": {},
   "source": [
    "Входные данные"
   ]
  },
  {
   "cell_type": "markdown",
   "metadata": {},
   "source": [
    "Cо слайда:"
   ]
  },
  {
   "cell_type": "code",
   "execution_count": 459,
   "metadata": {},
   "outputs": [],
   "source": [
    "#условия\n",
    "T = 300 #Температура, K\n",
    "E_out = 1*1e7 #Внешнее поле, e/cm^2\n",
    "\n",
    "#полупроводник\n",
    "E_gap = 1.12 * constants.eV #Между валентной зоной и зоной проводимости, эрг\n",
    "epsilon = 12 #диэлекрическая проницаемость\n",
    "m_h = 0.6 * constants.me #эффективаная масса дырок, г\n",
    "m_e = 0.98 * constants.me #эффективная масса электронов, г\n",
    "\n",
    "#легирование (доноры)\n",
    "E_d = 50*1e-3 * constants.eV #положение уровня донора (от дна зоны проводимости!)\n",
    "#а в fompy подставлять E_gap - E_d : отсчет от потолка валентной зоны\n",
    "N_d0 = 1e17 #концентрация доноров cm^-3\n",
    "\n",
    "E_d_fp = E_gap - E_d\n",
    "\n",
    "#поверхностные акцепторы\n",
    "N_as = (1.5*1e15) #плотность поверхностных акцепторов cm^-2 (должна быть)\n",
    "E_as = 0.96 * constants.eV #их положение уровня энергии"
   ]
  },
  {
   "cell_type": "markdown",
   "metadata": {},
   "source": [
    "Попытка найти нормальные: \n",
    "(арсенид галлия)\n",
    "\n",
    "\"Например, для арсенида галлия с изгибом зон, равным 0,2 эВ, при концентрации доноров $10^{10}см^{-3}$ размер ОПЗ составляет 170 микрон (что сравнимо с толщиной рабочих подложек – 300–400 микрон. Для концентрации доноров $10^{20}см^{–3}$размер ОПЗ составляет уже 17 ангстрем (всего три – четыре монослоя!).\""
   ]
  },
  {
   "cell_type": "code",
   "execution_count": 526,
   "metadata": {
    "scrolled": true
   },
   "outputs": [],
   "source": [
    "T = 300 #Температура, K\n",
    "E_out = 1*1e4 * 3.3*1e-5 #Внешнее поле, e/cm^2 ??????? (В/м * 3.3*10^-5 дин/статКулон)\n",
    "\n",
    "pure_scond = materials.GaAs\n",
    "\n",
    "#полупроводник\n",
    "E_gap = pure_scond.Eg #Между валентной зоной и зоной проводимости, эрг\n",
    "epsilon = pure_scond.eps #диэлекрическая проницаемость\n",
    "m_h = pure_scond.mh #эффективаная масса дырок, г\n",
    "m_e = pure_scond.me #эффективная масса электронов, г\n",
    "\n",
    "#легирование (доноры)\n",
    "E_d = 10*1e-3 * constants.eV #положение уровня донора (от дна зоны проводимости!)\n",
    "#а в fompy подставлять E_gap - E_d : отсчет от потолка валентной зоны\n",
    "N_d0 = 1e10 #концентрация доноров cm^-3\n",
    "\n",
    "E_d_fp = E_gap - E_d #отсчет от потолка валентной зоны\n",
    "\n",
    "#поверхностные акцепторы\n",
    "N_as = (1.5*1e15)**(2/3) #плотность поверхностных акцепторов cm^-2\n",
    "E_as = 0.96 * constants.eV #их положение уровня энергии"
   ]
  },
  {
   "cell_type": "markdown",
   "metadata": {},
   "source": [
    "Создаю наш полупроводник"
   ]
  },
  {
   "cell_type": "code",
   "execution_count": 515,
   "metadata": {},
   "outputs": [],
   "source": [
    "#pure_scond = models.Semiconductor(m_e, m_h, E_gap, chi=None, eps=epsilon)\n",
    "doped = models.DopedSemiconductor(mat=pure_scond, Na=0, Ea=0, Nd=N_d0, Ed=E_d_fp)\n"
   ]
  },
  {
   "cell_type": "code",
   "execution_count": 484,
   "metadata": {},
   "outputs": [
    {
     "data": {
      "text/plain": [
       "1.424"
      ]
     },
     "execution_count": 484,
     "metadata": {},
     "output_type": "execute_result"
    }
   ],
   "source": [
    "doped.Eg/constants.eV"
   ]
  },
  {
   "cell_type": "markdown",
   "metadata": {},
   "source": [
    "1. Сначала находим эффективную плотность состояний для электронов и дырок\n",
    "\n",
    "\n",
    "Формула лектора: \n",
    "\n",
    "$$N_{C(V)} = 2.51\\cdot 10^{18} (\\frac{m_{C(V)}}{m_0})^{3/2} (\\frac{T}{300})^{3/2} \\cdot cm^{-3}$$\n",
    "\n",
    "Формула fompy:\n",
    "\n",
    "$$N_{C(V)} = 2 \\left( \\frac{2 \\pi m_{C(V)} k T }{ (2 \\pi \\hbar)^2 } \\right)^{3/2} \\cdot cm^{-3}$$\n",
    "\n",
    "\n",
    "*Сходится по обеим формулам*"
   ]
  },
  {
   "cell_type": "code",
   "execution_count": 485,
   "metadata": {},
   "outputs": [
    {
     "data": {
      "text/plain": [
       "(3.964533495514421e+17, 9.673754722651005e+18)"
      ]
     },
     "execution_count": 485,
     "metadata": {},
     "output_type": "execute_result"
    }
   ],
   "source": [
    "N_c = doped.Nc(T) #cm^-3\n",
    "N_v = doped.Nv(T) #cm^-3\n",
    "N_c, N_v"
   ]
  },
  {
   "cell_type": "markdown",
   "metadata": {},
   "source": [
    "2. Находим положение уровня Ферми в квазинейтральном объеме из условия электронейтральности. Формулы лектора:\n",
    "$$N_d^+ + p = n$$\n",
    "\n",
    "$$n = N_c \\cdot e^{\\frac{E_f - E_g}{kT}}$$\n",
    "$$p = N_v \\cdot e^{\\frac{-E_f}{kT}}$$\n",
    "\n",
    "$$N_d^+ = N_{d0} \\frac{1}{1 + e^{\\frac{E_g - E_d - E_f}{kT}}}$$\n",
    "\n",
    "Формулы fompy:\n",
    "\n",
    "$$N_d^+ = N_d \\cdot (1 - f(E_d))$$\n",
    "\n",
    "$$n = N_c(T) \\Phi_{1/2}\\left( \\frac{ E_f - E_g }{ k T } \\right)$$\n",
    "\n",
    "$$n_p = N_v(T) \\Phi_{1/2}\\left( \\frac{ - E_f }{ k T } \\right)$$\n",
    "\n",
    "$$p + N_d^{+} - n - N_a^{-} = 0$$\n",
    "\n",
    "$$f(E) = \\frac{ 1 }{ 1 + \\exp\\left( \\frac{ E - E_f }{ k T } \\right)}$$"
   ]
  },
  {
   "cell_type": "markdown",
   "metadata": {},
   "source": [
    "**Уровень Ферми в квазинейтральном объеме:**"
   ]
  },
  {
   "cell_type": "code",
   "execution_count": 464,
   "metadata": {
    "scrolled": true
   },
   "outputs": [
    {
     "data": {
      "text/plain": [
       "0.974666519165039"
      ]
     },
     "execution_count": 464,
     "metadata": {},
     "output_type": "execute_result"
    }
   ],
   "source": [
    "E_f = doped.fermi_level(T)\n",
    "E_f/constants.eV"
   ]
  },
  {
   "cell_type": "markdown",
   "metadata": {},
   "source": [
    "Пока не ввели параметры примеси, совпадает со значением для чистого:"
   ]
  },
  {
   "cell_type": "code",
   "execution_count": 465,
   "metadata": {},
   "outputs": [
    {
     "data": {
      "text/plain": [
       "0.7533099822998045"
      ]
     },
     "execution_count": 465,
     "metadata": {},
     "output_type": "execute_result"
    }
   ],
   "source": [
    "pure_scond.fermi_level(T)/constants.eV"
   ]
  },
  {
   "cell_type": "markdown",
   "metadata": {},
   "source": [
    "### Решение уравнения на изгиб зон"
   ]
  },
  {
   "cell_type": "markdown",
   "metadata": {},
   "source": [
    "Без поля: заряд поверхностных акцепторов равен заряду ОПЗ\n",
    "\n",
    "$$ N_{d0}We = N^+_{as}e $$\n",
    "\n",
    "Уравнение на $\\phi_s$ с внешним полем:  \n",
    "\n",
    "\n",
    "$$ \\sqrt{\\frac{\\epsilon \\phi_s N_{d0}}{2\\pi e^2}} = N_{as}\\frac{1}{1 + e^{\\frac{E_{as}+\\phi_s - E_f}{kT}}} + \\frac{E_{out}}{4\\pi e} = [\\frac{1}{cm^2}]$$"
   ]
  },
  {
   "cell_type": "code",
   "execution_count": 466,
   "metadata": {},
   "outputs": [],
   "source": [
    "# x == phi_s в эВ !!!!\n",
    "def f_left(x):\n",
    "    x_erg = x * constants.eV\n",
    "    return math.sqrt(epsilon * x_erg * N_d0/(2*math.pi*(constants.e)**2))\n",
    "\n",
    "def f_right(x):\n",
    "    x_erg = x * constants.eV\n",
    "    return (N_as*(1/(1 + math.exp((E_as + x_erg - E_f)/(constants.k*T)))) + E_out/(4*math.pi*constants.e))\n",
    "\n",
    "def f(x):\n",
    "    return f_left(x) - f_right(x)"
   ]
  },
  {
   "cell_type": "code",
   "execution_count": 467,
   "metadata": {},
   "outputs": [],
   "source": [
    "x_s = [i*0.01 for i in range(1000, 1701, 1)]\n",
    "left = [f_left(x) for x in x_s]\n",
    "right = [f_right(x) for x in x_s]\n",
    "f_s = [f_left(x) - f_right(x) for x in x_s]"
   ]
  },
  {
   "cell_type": "code",
   "execution_count": 470,
   "metadata": {},
   "outputs": [
    {
     "data": {
      "image/png": "[encoded data removed]",
      "text/plain": [
       "<Figure size 432x288 with 1 Axes>"
      ]
     },
     "metadata": {
      "needs_background": "light"
     },
     "output_type": "display_data"
    }
   ],
   "source": [
    "plt.plot(x_s, left, 'b', label=\"left\")\n",
    "plt.plot(x_s, right, 'm', label=\"right\")\n",
    "plt.grid()\n",
    "plt.xlabel('phi, eV')\n",
    "#plt.title('Решения u(t), v(t)')\n",
    "#plt.xscale(\"log\")\n",
    "plt.yscale(\"log\")\n",
    "plt.legend()\n",
    "plt.show()"
   ]
  },
  {
   "cell_type": "code",
   "execution_count": 527,
   "metadata": {},
   "outputs": [
    {
     "data": {
      "text/plain": [
       "array([0.14374259])"
      ]
     },
     "execution_count": 527,
     "metadata": {},
     "output_type": "execute_result"
    }
   ],
   "source": [
    "from scipy.optimize import fsolve\n",
    "x_0 = 0.1\n",
    "root = fsolve(f,x_0)\n",
    "root"
   ]
  },
  {
   "cell_type": "code",
   "execution_count": 517,
   "metadata": {
    "scrolled": true
   },
   "outputs": [
    {
     "ename": "ValueError",
     "evalue": "x and y must have same first dimension, but have shapes (31,) and (701,)",
     "output_type": "error",
     "traceback": [
      "\u001b[0;31m---------------------------------------------------------------------------\u001b[0m",
      "\u001b[0;31mValueError\u001b[0m                                Traceback (most recent call last)",
      "\u001b[0;32m<ipython-input-517-9fd3b6e86848>\u001b[0m in \u001b[0;36m<module>\u001b[0;34m\u001b[0m\n\u001b[0;32m----> 1\u001b[0;31m \u001b[0mplt\u001b[0m\u001b[0;34m.\u001b[0m\u001b[0mplot\u001b[0m\u001b[0;34m(\u001b[0m\u001b[0mx_s\u001b[0m\u001b[0;34m,\u001b[0m \u001b[0mf_s\u001b[0m\u001b[0;34m,\u001b[0m \u001b[0;34m'g'\u001b[0m\u001b[0;34m,\u001b[0m \u001b[0mlabel\u001b[0m\u001b[0;34m=\u001b[0m\u001b[0;34m\"f(phi)\"\u001b[0m\u001b[0;34m)\u001b[0m\u001b[0;34m\u001b[0m\u001b[0;34m\u001b[0m\u001b[0m\n\u001b[0m\u001b[1;32m      2\u001b[0m \u001b[0mplt\u001b[0m\u001b[0;34m.\u001b[0m\u001b[0mgrid\u001b[0m\u001b[0;34m(\u001b[0m\u001b[0;34m)\u001b[0m\u001b[0;34m\u001b[0m\u001b[0;34m\u001b[0m\u001b[0m\n\u001b[1;32m      3\u001b[0m \u001b[0mplt\u001b[0m\u001b[0;34m.\u001b[0m\u001b[0mxlabel\u001b[0m\u001b[0;34m(\u001b[0m\u001b[0;34m'phi, eV'\u001b[0m\u001b[0;34m)\u001b[0m\u001b[0;34m\u001b[0m\u001b[0;34m\u001b[0m\u001b[0m\n\u001b[1;32m      4\u001b[0m \u001b[0;31m#plt.xscale(\"log\")\u001b[0m\u001b[0;34m\u001b[0m\u001b[0;34m\u001b[0m\u001b[0;34m\u001b[0m\u001b[0m\n\u001b[1;32m      5\u001b[0m \u001b[0;31m#plt.yscale(\"log\")\u001b[0m\u001b[0;34m\u001b[0m\u001b[0;34m\u001b[0m\u001b[0;34m\u001b[0m\u001b[0m\n",
      "\u001b[0;32m~/.local/lib/python3.8/site-packages/matplotlib/pyplot.py\u001b[0m in \u001b[0;36mplot\u001b[0;34m(scalex, scaley, data, *args, **kwargs)\u001b[0m\n\u001b[1;32m   2822\u001b[0m \u001b[0;34m@\u001b[0m\u001b[0m_copy_docstring_and_deprecators\u001b[0m\u001b[0;34m(\u001b[0m\u001b[0mAxes\u001b[0m\u001b[0;34m.\u001b[0m\u001b[0mplot\u001b[0m\u001b[0;34m)\u001b[0m\u001b[0;34m\u001b[0m\u001b[0;34m\u001b[0m\u001b[0m\n\u001b[1;32m   2823\u001b[0m \u001b[0;32mdef\u001b[0m \u001b[0mplot\u001b[0m\u001b[0;34m(\u001b[0m\u001b[0;34m*\u001b[0m\u001b[0margs\u001b[0m\u001b[0;34m,\u001b[0m \u001b[0mscalex\u001b[0m\u001b[0;34m=\u001b[0m\u001b[0;32mTrue\u001b[0m\u001b[0;34m,\u001b[0m \u001b[0mscaley\u001b[0m\u001b[0;34m=\u001b[0m\u001b[0;32mTrue\u001b[0m\u001b[0;34m,\u001b[0m \u001b[0mdata\u001b[0m\u001b[0;34m=\u001b[0m\u001b[0;32mNone\u001b[0m\u001b[0;34m,\u001b[0m \u001b[0;34m**\u001b[0m\u001b[0mkwargs\u001b[0m\u001b[0;34m)\u001b[0m\u001b[0;34m:\u001b[0m\u001b[0;34m\u001b[0m\u001b[0;34m\u001b[0m\u001b[0m\n\u001b[0;32m-> 2824\u001b[0;31m     return gca().plot(\n\u001b[0m\u001b[1;32m   2825\u001b[0m         \u001b[0;34m*\u001b[0m\u001b[0margs\u001b[0m\u001b[0;34m,\u001b[0m \u001b[0mscalex\u001b[0m\u001b[0;34m=\u001b[0m\u001b[0mscalex\u001b[0m\u001b[0;34m,\u001b[0m \u001b[0mscaley\u001b[0m\u001b[0;34m=\u001b[0m\u001b[0mscaley\u001b[0m\u001b[0;34m,\u001b[0m\u001b[0;34m\u001b[0m\u001b[0;34m\u001b[0m\u001b[0m\n\u001b[1;32m   2826\u001b[0m         **({\"data\": data} if data is not None else {}), **kwargs)\n",
      "\u001b[0;32m~/.local/lib/python3.8/site-packages/matplotlib/axes/_axes.py\u001b[0m in \u001b[0;36mplot\u001b[0;34m(self, scalex, scaley, data, *args, **kwargs)\u001b[0m\n\u001b[1;32m   1741\u001b[0m         \"\"\"\n\u001b[1;32m   1742\u001b[0m         \u001b[0mkwargs\u001b[0m \u001b[0;34m=\u001b[0m \u001b[0mcbook\u001b[0m\u001b[0;34m.\u001b[0m\u001b[0mnormalize_kwargs\u001b[0m\u001b[0;34m(\u001b[0m\u001b[0mkwargs\u001b[0m\u001b[0;34m,\u001b[0m \u001b[0mmlines\u001b[0m\u001b[0;34m.\u001b[0m\u001b[0mLine2D\u001b[0m\u001b[0;34m)\u001b[0m\u001b[0;34m\u001b[0m\u001b[0;34m\u001b[0m\u001b[0m\n\u001b[0;32m-> 1743\u001b[0;31m         \u001b[0mlines\u001b[0m \u001b[0;34m=\u001b[0m \u001b[0;34m[\u001b[0m\u001b[0;34m*\u001b[0m\u001b[0mself\u001b[0m\u001b[0;34m.\u001b[0m\u001b[0m_get_lines\u001b[0m\u001b[0;34m(\u001b[0m\u001b[0;34m*\u001b[0m\u001b[0margs\u001b[0m\u001b[0;34m,\u001b[0m \u001b[0mdata\u001b[0m\u001b[0;34m=\u001b[0m\u001b[0mdata\u001b[0m\u001b[0;34m,\u001b[0m \u001b[0;34m**\u001b[0m\u001b[0mkwargs\u001b[0m\u001b[0;34m)\u001b[0m\u001b[0;34m]\u001b[0m\u001b[0;34m\u001b[0m\u001b[0;34m\u001b[0m\u001b[0m\n\u001b[0m\u001b[1;32m   1744\u001b[0m         \u001b[0;32mfor\u001b[0m \u001b[0mline\u001b[0m \u001b[0;32min\u001b[0m \u001b[0mlines\u001b[0m\u001b[0;34m:\u001b[0m\u001b[0;34m\u001b[0m\u001b[0;34m\u001b[0m\u001b[0m\n\u001b[1;32m   1745\u001b[0m             \u001b[0mself\u001b[0m\u001b[0;34m.\u001b[0m\u001b[0madd_line\u001b[0m\u001b[0;34m(\u001b[0m\u001b[0mline\u001b[0m\u001b[0;34m)\u001b[0m\u001b[0;34m\u001b[0m\u001b[0;34m\u001b[0m\u001b[0m\n",
      "\u001b[0;32m~/.local/lib/python3.8/site-packages/matplotlib/axes/_base.py\u001b[0m in \u001b[0;36m__call__\u001b[0;34m(self, data, *args, **kwargs)\u001b[0m\n\u001b[1;32m    271\u001b[0m                 \u001b[0mthis\u001b[0m \u001b[0;34m+=\u001b[0m \u001b[0margs\u001b[0m\u001b[0;34m[\u001b[0m\u001b[0;36m0\u001b[0m\u001b[0;34m]\u001b[0m\u001b[0;34m,\u001b[0m\u001b[0;34m\u001b[0m\u001b[0;34m\u001b[0m\u001b[0m\n\u001b[1;32m    272\u001b[0m                 \u001b[0margs\u001b[0m \u001b[0;34m=\u001b[0m \u001b[0margs\u001b[0m\u001b[0;34m[\u001b[0m\u001b[0;36m1\u001b[0m\u001b[0;34m:\u001b[0m\u001b[0;34m]\u001b[0m\u001b[0;34m\u001b[0m\u001b[0;34m\u001b[0m\u001b[0m\n\u001b[0;32m--> 273\u001b[0;31m             \u001b[0;32myield\u001b[0m \u001b[0;32mfrom\u001b[0m \u001b[0mself\u001b[0m\u001b[0;34m.\u001b[0m\u001b[0m_plot_args\u001b[0m\u001b[0;34m(\u001b[0m\u001b[0mthis\u001b[0m\u001b[0;34m,\u001b[0m \u001b[0mkwargs\u001b[0m\u001b[0;34m)\u001b[0m\u001b[0;34m\u001b[0m\u001b[0;34m\u001b[0m\u001b[0m\n\u001b[0m\u001b[1;32m    274\u001b[0m \u001b[0;34m\u001b[0m\u001b[0m\n\u001b[1;32m    275\u001b[0m     \u001b[0;32mdef\u001b[0m \u001b[0mget_next_color\u001b[0m\u001b[0;34m(\u001b[0m\u001b[0mself\u001b[0m\u001b[0;34m)\u001b[0m\u001b[0;34m:\u001b[0m\u001b[0;34m\u001b[0m\u001b[0;34m\u001b[0m\u001b[0m\n",
      "\u001b[0;32m~/.local/lib/python3.8/site-packages/matplotlib/axes/_base.py\u001b[0m in \u001b[0;36m_plot_args\u001b[0;34m(self, tup, kwargs)\u001b[0m\n\u001b[1;32m    397\u001b[0m \u001b[0;34m\u001b[0m\u001b[0m\n\u001b[1;32m    398\u001b[0m         \u001b[0;32mif\u001b[0m \u001b[0mx\u001b[0m\u001b[0;34m.\u001b[0m\u001b[0mshape\u001b[0m\u001b[0;34m[\u001b[0m\u001b[0;36m0\u001b[0m\u001b[0;34m]\u001b[0m \u001b[0;34m!=\u001b[0m \u001b[0my\u001b[0m\u001b[0;34m.\u001b[0m\u001b[0mshape\u001b[0m\u001b[0;34m[\u001b[0m\u001b[0;36m0\u001b[0m\u001b[0;34m]\u001b[0m\u001b[0;34m:\u001b[0m\u001b[0;34m\u001b[0m\u001b[0;34m\u001b[0m\u001b[0m\n\u001b[0;32m--> 399\u001b[0;31m             raise ValueError(f\"x and y must have same first dimension, but \"\n\u001b[0m\u001b[1;32m    400\u001b[0m                              f\"have shapes {x.shape} and {y.shape}\")\n\u001b[1;32m    401\u001b[0m         \u001b[0;32mif\u001b[0m \u001b[0mx\u001b[0m\u001b[0;34m.\u001b[0m\u001b[0mndim\u001b[0m \u001b[0;34m>\u001b[0m \u001b[0;36m2\u001b[0m \u001b[0;32mor\u001b[0m \u001b[0my\u001b[0m\u001b[0;34m.\u001b[0m\u001b[0mndim\u001b[0m \u001b[0;34m>\u001b[0m \u001b[0;36m2\u001b[0m\u001b[0;34m:\u001b[0m\u001b[0;34m\u001b[0m\u001b[0;34m\u001b[0m\u001b[0m\n",
      "\u001b[0;31mValueError\u001b[0m: x and y must have same first dimension, but have shapes (31,) and (701,)"
     ]
    },
    {
     "data": {
      "image/png": "[encoded data removed]",
      "text/plain": [
       "<Figure size 432x288 with 1 Axes>"
      ]
     },
     "metadata": {
      "needs_background": "light"
     },
     "output_type": "display_data"
    }
   ],
   "source": [
    "plt.plot(x_s, f_s, 'g', label=\"f(phi)\")\n",
    "plt.grid()\n",
    "plt.xlabel('phi, eV')\n",
    "#plt.xscale(\"log\")\n",
    "#plt.yscale(\"log\")\n",
    "plt.legend()\n",
    "plt.show()"
   ]
  },
  {
   "cell_type": "code",
   "execution_count": 518,
   "metadata": {},
   "outputs": [],
   "source": [
    "def W(phi):\n",
    "    #phi в эВ\n",
    "    phi_erg = phi * constants.eV\n",
    "    return math.sqrt(epsilon*phi_erg/(N_d0*2*math.pi*(constants.e)**2))"
   ]
  },
  {
   "cell_type": "code",
   "execution_count": 528,
   "metadata": {
    "scrolled": false
   },
   "outputs": [
    {
     "name": "stdout",
     "output_type": "stream",
     "text": [
      "Изгиб зон 0.14374258531395442 эВ\n",
      "ОПЗ 143.1582286456115 микрон\n"
     ]
    }
   ],
   "source": [
    "phi = root[0]\n",
    "w = W(phi)\n",
    "print('Изгиб зон', phi, 'эВ')\n",
    "print('ОПЗ', w*1e4, 'микрон')"
   ]
  },
  {
   "cell_type": "code",
   "execution_count": 529,
   "metadata": {},
   "outputs": [
    {
     "data": {
      "text/plain": [
       "0.014315822864561149"
      ]
     },
     "execution_count": 529,
     "metadata": {},
     "output_type": "execute_result"
    }
   ],
   "source": [
    "w"
   ]
  },
  {
   "cell_type": "markdown",
   "metadata": {},
   "source": [
    "**Попытки нарисовать диаграмму:** "
   ]
  },
  {
   "cell_type": "code",
   "execution_count": 530,
   "metadata": {},
   "outputs": [],
   "source": [
    "def make_points(phi, W, scond, E_as):\n",
    "    #phi в эВ\n",
    "    #W в см\n",
    "    \n",
    "    N = 30\n",
    "    h = W*2/N\n",
    "    \n",
    "    #парабола: ax^2 + bx + c\n",
    "    c = phi\n",
    "    a = c/(W**2)\n",
    "    b = -2 * W * a\n",
    "        \n",
    "    x_s = [] #координата\n",
    "    E_f_s = [] # энергия ферми\n",
    "    E_v_s = [] # потолок валентной зоны\n",
    "    E_c_s = [] # дно зоны проводимости\n",
    "    E_d_s = [] # энергия доноров\n",
    "    E_as_s = [] #энергия поверхностных акцепторов\n",
    "    \n",
    "    E_f = scond.fermi_level()/constants.eV\n",
    "    E_gap = scond.Eg/constants.eV\n",
    "    E_d = scond.Ed/constants.eV\n",
    "    E_as_eV = E_as/constants.eV\n",
    "     \n",
    "    \n",
    "    for i in range(N+1):\n",
    "        x_s.append(i*h)\n",
    "        E_f_s.append(E_f)\n",
    "        E_as_s.append(E_as_eV)\n",
    "        \n",
    "        if x_s[i] > W:\n",
    "            E_v_s.append(0)\n",
    "            E_c_s.append(E_gap)\n",
    "            E_d_s.append(E_d)\n",
    "            \n",
    "        else:\n",
    "            bend = a*x_s[i]**2 + b*x_s[i] + c\n",
    "            E_v_s.append(bend)\n",
    "            E_c_s.append(E_gap + bend)\n",
    "            E_d_s.append(E_d + bend)\n",
    "            \n",
    "    return x_s, E_f_s, E_v_s, E_c_s, E_d_s, E_as_s"
   ]
  },
  {
   "cell_type": "code",
   "execution_count": 531,
   "metadata": {},
   "outputs": [],
   "source": [
    "x_s, E_f_s, E_v_s, E_c_s, E_d_s, E_as_s = make_points(phi, w, doped, E_as)"
   ]
  },
  {
   "cell_type": "code",
   "execution_count": 532,
   "metadata": {},
   "outputs": [
    {
     "data": {
      "image/png": "[encoded data removed]",
      "text/plain": [
       "<Figure size 1440x720 with 1 Axes>"
      ]
     },
     "metadata": {
      "needs_background": "light"
     },
     "output_type": "display_data"
    }
   ],
   "source": [
    "fig = plt.figure(figsize=(20,10))\n",
    "\n",
    "plt.plot(x_s, E_v_s, 'b', label=\"Ev\")\n",
    "plt.plot(x_s, E_c_s, 'r', label=\"Ec\")\n",
    "plt.plot(x_s, E_as_s, 'y', label=\"Eas\")\n",
    "plt.plot(x_s, E_f_s, 'm', label=\"Ef\")\n",
    "plt.plot(x_s, E_d_s, 'g', label=\"Ed\")\n",
    "\n",
    "plt.axhline(phi, c='k', linestyle='dashed')\n",
    "plt.text(0.002, phi+0.02, 'phi = '+str(round(phi, 4)) + ' eV')\n",
    "\n",
    "plt.axvline(w, c='k', linestyle='dashed')\n",
    "plt.text(w+0.0001, 0.2, 'W = '+str(round(w, 4)) + ' cm')\n",
    "\n",
    "\n",
    "plt.grid()\n",
    "plt.xlabel('x, cm')\n",
    "plt.ylabel('E, eV')\n",
    "plt.title('Энергетические уровни')\n",
    "#plt.xscale(\"log\")\n",
    "#plt.yscale(\"log\")\n",
    "plt.legend()\n",
    "plt.show()"
   ]
  },
  {
   "cell_type": "markdown",
   "metadata": {},
   "source": [
    "Примерное поле, создаваемое поверхностными зарядами, на единицу площади (всё в СГСЭ)"
   ]
  },
  {
   "cell_type": "code",
   "execution_count": 510,
   "metadata": {
    "scrolled": false
   },
   "outputs": [
    {
     "data": {
      "text/plain": [
       "6.293710458192657"
      ]
     },
     "execution_count": 510,
     "metadata": {},
     "output_type": "execute_result"
    }
   ],
   "source": [
    "N_as * constants.e"
   ]
  },
  {
   "cell_type": "markdown",
   "metadata": {},
   "source": [
    "--------\n",
    "\n",
    "*Настино решение:*"
   ]
  },
  {
   "cell_type": "code",
   "execution_count": 10,
   "metadata": {},
   "outputs": [
    {
     "name": "stdout",
     "output_type": "stream",
     "text": [
      "9.098883452776008e+17\n",
      "1.6568284727451108e+21\n",
      "13103706971.044466\n",
      "C0 4.143e-14\n",
      "2.8341025231055508e+16\n",
      "4.6235825501067954e-07\n"
     ]
    }
   ],
   "source": [
    "C1 = math.sqrt((epsilon*N_d0)/ (2*math.pi*constants.e**2)) \n",
    "print(C1)\n",
    "C2 = E_out / (4*math.pi*constants.e)\n",
    "print(C2)\n",
    "print(N_as)\n",
    "C0 = constants.k*T\n",
    "print(\"C0\",C0)\n",
    "C3 = (E_as - E_f)/C0\n",
    "print(math.exp((C3 + 1*constants.eV/C0)))\n",
    "print(N_as/(1 + math.exp(C3 + 1*constants.eV/C0)))"
   ]
  },
  {
   "cell_type": "code",
   "execution_count": 11,
   "metadata": {},
   "outputs": [],
   "source": [
    "def f1(x):\n",
    "    C1 = sqrt((epsilon*N_d0)/ (2*math.pi*constants.e**2)) \n",
    "    return C1*sqrt(x)"
   ]
  },
  {
   "cell_type": "code",
   "execution_count": 13,
   "metadata": {},
   "outputs": [],
   "source": [
    "def f2(x):\n",
    "    C0 = constants.k*T\n",
    "    #C2 = E_out / (4*pi*e)\n",
    "    C2 = 0\n",
    "    C3 = (E_as - E_f)/C0\n",
    "    return N_as/(1 + math.exp(C3 + x/C0)) + C2"
   ]
  },
  {
   "cell_type": "code",
   "execution_count": 16,
   "metadata": {},
   "outputs": [],
   "source": [
    "def f(x):\n",
    "    C0 = constants.k*T\n",
    "    C1 = math.sqrt((epsilon*N_d0)/ (2*math.pi*constants.e**2)) \n",
    "    C2 = E_out / (4*math.pi*constants.e)\n",
    "    C3 = (E_as - E_f)/C0\n",
    "    return C1*math.sqrt(x) - N_as/(1 + math.exp(C3 + x/C0)) - C2"
   ]
  },
  {
   "cell_type": "code",
   "execution_count": 17,
   "metadata": {},
   "outputs": [
    {
     "ename": "OverflowError",
     "evalue": "math range error",
     "output_type": "error",
     "traceback": [
      "\u001b[0;31m---------------------------------------------------------------------------\u001b[0m",
      "\u001b[0;31mOverflowError\u001b[0m                             Traceback (most recent call last)",
      "\u001b[0;32m<ipython-input-17-a1e64f477c7d>\u001b[0m in \u001b[0;36m<module>\u001b[0;34m\u001b[0m\n\u001b[1;32m      1\u001b[0m \u001b[0;32mfrom\u001b[0m \u001b[0mscipy\u001b[0m\u001b[0;34m.\u001b[0m\u001b[0moptimize\u001b[0m \u001b[0;32mimport\u001b[0m \u001b[0mfsolve\u001b[0m\u001b[0;34m\u001b[0m\u001b[0;34m\u001b[0m\u001b[0m\n\u001b[1;32m      2\u001b[0m \u001b[0mx0\u001b[0m \u001b[0;34m=\u001b[0m \u001b[0;36m1.5\u001b[0m \u001b[0;34m*\u001b[0m \u001b[0mconstants\u001b[0m\u001b[0;34m.\u001b[0m\u001b[0meV\u001b[0m\u001b[0;34m\u001b[0m\u001b[0;34m\u001b[0m\u001b[0m\n\u001b[0;32m----> 3\u001b[0;31m \u001b[0mroot\u001b[0m \u001b[0;34m=\u001b[0m \u001b[0mfsolve\u001b[0m\u001b[0;34m(\u001b[0m\u001b[0mf\u001b[0m\u001b[0;34m,\u001b[0m\u001b[0mx0\u001b[0m\u001b[0;34m)\u001b[0m\u001b[0;34m\u001b[0m\u001b[0;34m\u001b[0m\u001b[0m\n\u001b[0m\u001b[1;32m      4\u001b[0m \u001b[0mroot\u001b[0m\u001b[0;34m\u001b[0m\u001b[0;34m\u001b[0m\u001b[0m\n\u001b[1;32m      5\u001b[0m \u001b[0mprint\u001b[0m\u001b[0;34m(\u001b[0m\u001b[0mroot\u001b[0m \u001b[0;34m/\u001b[0m \u001b[0mconstants\u001b[0m\u001b[0;34m.\u001b[0m\u001b[0meV\u001b[0m\u001b[0;34m,\u001b[0m \u001b[0;34m'eV'\u001b[0m\u001b[0;34m)\u001b[0m\u001b[0;34m\u001b[0m\u001b[0;34m\u001b[0m\u001b[0m\n",
      "\u001b[0;32m~/.local/lib/python3.8/site-packages/scipy/optimize/minpack.py\u001b[0m in \u001b[0;36mfsolve\u001b[0;34m(func, x0, args, fprime, full_output, col_deriv, xtol, maxfev, band, epsfcn, factor, diag)\u001b[0m\n\u001b[1;32m    158\u001b[0m                'diag': diag}\n\u001b[1;32m    159\u001b[0m \u001b[0;34m\u001b[0m\u001b[0m\n\u001b[0;32m--> 160\u001b[0;31m     \u001b[0mres\u001b[0m \u001b[0;34m=\u001b[0m \u001b[0m_root_hybr\u001b[0m\u001b[0;34m(\u001b[0m\u001b[0mfunc\u001b[0m\u001b[0;34m,\u001b[0m \u001b[0mx0\u001b[0m\u001b[0;34m,\u001b[0m \u001b[0margs\u001b[0m\u001b[0;34m,\u001b[0m \u001b[0mjac\u001b[0m\u001b[0;34m=\u001b[0m\u001b[0mfprime\u001b[0m\u001b[0;34m,\u001b[0m \u001b[0;34m**\u001b[0m\u001b[0moptions\u001b[0m\u001b[0;34m)\u001b[0m\u001b[0;34m\u001b[0m\u001b[0;34m\u001b[0m\u001b[0m\n\u001b[0m\u001b[1;32m    161\u001b[0m     \u001b[0;32mif\u001b[0m \u001b[0mfull_output\u001b[0m\u001b[0;34m:\u001b[0m\u001b[0;34m\u001b[0m\u001b[0;34m\u001b[0m\u001b[0m\n\u001b[1;32m    162\u001b[0m         \u001b[0mx\u001b[0m \u001b[0;34m=\u001b[0m \u001b[0mres\u001b[0m\u001b[0;34m[\u001b[0m\u001b[0;34m'x'\u001b[0m\u001b[0;34m]\u001b[0m\u001b[0;34m\u001b[0m\u001b[0;34m\u001b[0m\u001b[0m\n",
      "\u001b[0;32m~/.local/lib/python3.8/site-packages/scipy/optimize/minpack.py\u001b[0m in \u001b[0;36m_root_hybr\u001b[0;34m(func, x0, args, jac, col_deriv, xtol, maxfev, band, eps, factor, diag, **unknown_options)\u001b[0m\n\u001b[1;32m    235\u001b[0m         \u001b[0;32mif\u001b[0m \u001b[0mmaxfev\u001b[0m \u001b[0;34m==\u001b[0m \u001b[0;36m0\u001b[0m\u001b[0;34m:\u001b[0m\u001b[0;34m\u001b[0m\u001b[0;34m\u001b[0m\u001b[0m\n\u001b[1;32m    236\u001b[0m             \u001b[0mmaxfev\u001b[0m \u001b[0;34m=\u001b[0m \u001b[0;36m200\u001b[0m \u001b[0;34m*\u001b[0m \u001b[0;34m(\u001b[0m\u001b[0mn\u001b[0m \u001b[0;34m+\u001b[0m \u001b[0;36m1\u001b[0m\u001b[0;34m)\u001b[0m\u001b[0;34m\u001b[0m\u001b[0;34m\u001b[0m\u001b[0m\n\u001b[0;32m--> 237\u001b[0;31m         retval = _minpack._hybrd(func, x0, args, 1, xtol, maxfev,\n\u001b[0m\u001b[1;32m    238\u001b[0m                                  ml, mu, epsfcn, factor, diag)\n\u001b[1;32m    239\u001b[0m     \u001b[0;32melse\u001b[0m\u001b[0;34m:\u001b[0m\u001b[0;34m\u001b[0m\u001b[0;34m\u001b[0m\u001b[0m\n",
      "\u001b[0;32m<ipython-input-16-b2e2b1ccd074>\u001b[0m in \u001b[0;36mf\u001b[0;34m(x)\u001b[0m\n\u001b[1;32m      4\u001b[0m     \u001b[0mC2\u001b[0m \u001b[0;34m=\u001b[0m \u001b[0mE_out\u001b[0m \u001b[0;34m/\u001b[0m \u001b[0;34m(\u001b[0m\u001b[0;36m4\u001b[0m\u001b[0;34m*\u001b[0m\u001b[0mmath\u001b[0m\u001b[0;34m.\u001b[0m\u001b[0mpi\u001b[0m\u001b[0;34m*\u001b[0m\u001b[0mconstants\u001b[0m\u001b[0;34m.\u001b[0m\u001b[0me\u001b[0m\u001b[0;34m)\u001b[0m\u001b[0;34m\u001b[0m\u001b[0;34m\u001b[0m\u001b[0m\n\u001b[1;32m      5\u001b[0m     \u001b[0mC3\u001b[0m \u001b[0;34m=\u001b[0m \u001b[0;34m(\u001b[0m\u001b[0mE_as\u001b[0m \u001b[0;34m-\u001b[0m \u001b[0mE_f\u001b[0m\u001b[0;34m)\u001b[0m\u001b[0;34m/\u001b[0m\u001b[0mC0\u001b[0m\u001b[0;34m\u001b[0m\u001b[0;34m\u001b[0m\u001b[0m\n\u001b[0;32m----> 6\u001b[0;31m     \u001b[0;32mreturn\u001b[0m \u001b[0mC1\u001b[0m\u001b[0;34m*\u001b[0m\u001b[0mmath\u001b[0m\u001b[0;34m.\u001b[0m\u001b[0msqrt\u001b[0m\u001b[0;34m(\u001b[0m\u001b[0mx\u001b[0m\u001b[0;34m)\u001b[0m \u001b[0;34m-\u001b[0m \u001b[0mN_as\u001b[0m\u001b[0;34m/\u001b[0m\u001b[0;34m(\u001b[0m\u001b[0;36m1\u001b[0m \u001b[0;34m+\u001b[0m \u001b[0mmath\u001b[0m\u001b[0;34m.\u001b[0m\u001b[0mexp\u001b[0m\u001b[0;34m(\u001b[0m\u001b[0mC3\u001b[0m \u001b[0;34m+\u001b[0m \u001b[0mx\u001b[0m\u001b[0;34m/\u001b[0m\u001b[0mC0\u001b[0m\u001b[0;34m)\u001b[0m\u001b[0;34m)\u001b[0m \u001b[0;34m-\u001b[0m \u001b[0mC2\u001b[0m\u001b[0;34m\u001b[0m\u001b[0;34m\u001b[0m\u001b[0m\n\u001b[0m",
      "\u001b[0;31mOverflowError\u001b[0m: math range error"
     ]
    }
   ],
   "source": [
    "from scipy.optimize import fsolve\n",
    "x0 = 1.5 * constants.eV\n",
    "root = fsolve(f,x0)\n",
    "root\n",
    "print(root / constants.eV, 'eV')"
   ]
  },
  {
   "cell_type": "code",
   "execution_count": null,
   "metadata": {},
   "outputs": [],
   "source": []
  }
 ],
 "metadata": {
  "kernelspec": {
   "display_name": "Python 3",
   "language": "python",
   "name": "python3"
  },
  "language_info": {
   "codemirror_mode": {
    "name": "ipython",
    "version": 3
   },
   "file_extension": ".py",
   "mimetype": "text/x-python",
   "name": "python",
   "nbconvert_exporter": "python",
   "pygments_lexer": "ipython3",
   "version": "3.8.5"
  }
 },
 "nbformat": 4,
 "nbformat_minor": 4
}
